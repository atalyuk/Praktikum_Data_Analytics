{
 "cells": [
  {
   "cell_type": "markdown",
   "metadata": {},
   "source": [
    "# Исследование надёжности заёмщиков"
   ]
  },
  {
   "cell_type": "markdown",
   "metadata": {},
   "source": [
    "Заказчик — кредитный отдел банка. Нужно разобраться, влияет ли семейное положение и количество детей клиента на факт погашения кредита в срок. Входные данные от банка — статистика о платёжеспособности клиентов.\n",
    "\n",
    "Результаты исследования будут учтены при построении модели **кредитного скоринга** — специальной системы, которая оценивает способность потенциального заёмщика вернуть кредит банку."
   ]
  },
  {
   "cell_type": "markdown",
   "metadata": {},
   "source": [
    "Мы имеем следующие данные по заёмщикам:\n",
    "\n",
    "- children — количество детей в семье\n",
    "- days_employed — общий трудовой стаж в днях\n",
    "- dob_years — возраст клиента в годах\n",
    "- education — уровень образования клиента\n",
    "- education_id — идентификатор уровня образования\n",
    "- family_status — семейное положение\n",
    "- family_status_id — идентификатор семейного положения\n",
    "- gender — пол клиента\n",
    "- income_type — тип занятости\n",
    "- debt — имел ли задолженность по возврату кредитов\n",
    "- total_income — ежемесячный доход\n",
    "- purpose — цель получения кредита"
   ]
  },
  {
   "cell_type": "markdown",
   "metadata": {},
   "source": [
    "Заполним недостающие данные, удалим дубликаты и выясним, как те или иные характеристики влияют на своевременный возврат кредита."
   ]
  },
  {
   "cell_type": "markdown",
   "metadata": {},
   "source": [
    "### Шаг 1. Откройте файл с данными и изучите общую информацию. "
   ]
  },
  {
   "cell_type": "code",
   "execution_count": 1,
   "metadata": {},
   "outputs": [],
   "source": [
    "import pandas as pd"
   ]
  },
  {
   "cell_type": "code",
   "execution_count": 2,
   "metadata": {},
   "outputs": [
    {
     "name": "stdout",
     "output_type": "stream",
     "text": [
      "<class 'pandas.core.frame.DataFrame'>\n",
      "RangeIndex: 21525 entries, 0 to 21524\n",
      "Data columns (total 12 columns):\n",
      " #   Column            Non-Null Count  Dtype  \n",
      "---  ------            --------------  -----  \n",
      " 0   children          21525 non-null  int64  \n",
      " 1   days_employed     19351 non-null  float64\n",
      " 2   dob_years         21525 non-null  int64  \n",
      " 3   education         21525 non-null  object \n",
      " 4   education_id      21525 non-null  int64  \n",
      " 5   family_status     21525 non-null  object \n",
      " 6   family_status_id  21525 non-null  int64  \n",
      " 7   gender            21525 non-null  object \n",
      " 8   income_type       21525 non-null  object \n",
      " 9   debt              21525 non-null  int64  \n",
      " 10  total_income      19351 non-null  float64\n",
      " 11  purpose           21525 non-null  object \n",
      "dtypes: float64(2), int64(5), object(5)\n",
      "memory usage: 2.0+ MB\n"
     ]
    }
   ],
   "source": [
    "scoring = pd.read_csv(\"data.csv\")\n",
    "scoring.info()"
   ]
  },
  {
   "cell_type": "code",
   "execution_count": 3,
   "metadata": {},
   "outputs": [
    {
     "data": {
      "text/html": [
       "<div>\n",
       "<style scoped>\n",
       "    .dataframe tbody tr th:only-of-type {\n",
       "        vertical-align: middle;\n",
       "    }\n",
       "\n",
       "    .dataframe tbody tr th {\n",
       "        vertical-align: top;\n",
       "    }\n",
       "\n",
       "    .dataframe thead th {\n",
       "        text-align: right;\n",
       "    }\n",
       "</style>\n",
       "<table border=\"1\" class=\"dataframe\">\n",
       "  <thead>\n",
       "    <tr style=\"text-align: right;\">\n",
       "      <th></th>\n",
       "      <th>children</th>\n",
       "      <th>days_employed</th>\n",
       "      <th>dob_years</th>\n",
       "      <th>education</th>\n",
       "      <th>education_id</th>\n",
       "      <th>family_status</th>\n",
       "      <th>family_status_id</th>\n",
       "      <th>gender</th>\n",
       "      <th>income_type</th>\n",
       "      <th>debt</th>\n",
       "      <th>total_income</th>\n",
       "      <th>purpose</th>\n",
       "    </tr>\n",
       "  </thead>\n",
       "  <tbody>\n",
       "    <tr>\n",
       "      <th>0</th>\n",
       "      <td>1</td>\n",
       "      <td>-8437.673028</td>\n",
       "      <td>42</td>\n",
       "      <td>высшее</td>\n",
       "      <td>0</td>\n",
       "      <td>женат / замужем</td>\n",
       "      <td>0</td>\n",
       "      <td>F</td>\n",
       "      <td>сотрудник</td>\n",
       "      <td>0</td>\n",
       "      <td>253875.639453</td>\n",
       "      <td>покупка жилья</td>\n",
       "    </tr>\n",
       "    <tr>\n",
       "      <th>1</th>\n",
       "      <td>1</td>\n",
       "      <td>-4024.803754</td>\n",
       "      <td>36</td>\n",
       "      <td>среднее</td>\n",
       "      <td>1</td>\n",
       "      <td>женат / замужем</td>\n",
       "      <td>0</td>\n",
       "      <td>F</td>\n",
       "      <td>сотрудник</td>\n",
       "      <td>0</td>\n",
       "      <td>112080.014102</td>\n",
       "      <td>приобретение автомобиля</td>\n",
       "    </tr>\n",
       "    <tr>\n",
       "      <th>2</th>\n",
       "      <td>0</td>\n",
       "      <td>-5623.422610</td>\n",
       "      <td>33</td>\n",
       "      <td>Среднее</td>\n",
       "      <td>1</td>\n",
       "      <td>женат / замужем</td>\n",
       "      <td>0</td>\n",
       "      <td>M</td>\n",
       "      <td>сотрудник</td>\n",
       "      <td>0</td>\n",
       "      <td>145885.952297</td>\n",
       "      <td>покупка жилья</td>\n",
       "    </tr>\n",
       "    <tr>\n",
       "      <th>3</th>\n",
       "      <td>3</td>\n",
       "      <td>-4124.747207</td>\n",
       "      <td>32</td>\n",
       "      <td>среднее</td>\n",
       "      <td>1</td>\n",
       "      <td>женат / замужем</td>\n",
       "      <td>0</td>\n",
       "      <td>M</td>\n",
       "      <td>сотрудник</td>\n",
       "      <td>0</td>\n",
       "      <td>267628.550329</td>\n",
       "      <td>дополнительное образование</td>\n",
       "    </tr>\n",
       "    <tr>\n",
       "      <th>4</th>\n",
       "      <td>0</td>\n",
       "      <td>340266.072047</td>\n",
       "      <td>53</td>\n",
       "      <td>среднее</td>\n",
       "      <td>1</td>\n",
       "      <td>гражданский брак</td>\n",
       "      <td>1</td>\n",
       "      <td>F</td>\n",
       "      <td>пенсионер</td>\n",
       "      <td>0</td>\n",
       "      <td>158616.077870</td>\n",
       "      <td>сыграть свадьбу</td>\n",
       "    </tr>\n",
       "    <tr>\n",
       "      <th>5</th>\n",
       "      <td>0</td>\n",
       "      <td>-926.185831</td>\n",
       "      <td>27</td>\n",
       "      <td>высшее</td>\n",
       "      <td>0</td>\n",
       "      <td>гражданский брак</td>\n",
       "      <td>1</td>\n",
       "      <td>M</td>\n",
       "      <td>компаньон</td>\n",
       "      <td>0</td>\n",
       "      <td>255763.565419</td>\n",
       "      <td>покупка жилья</td>\n",
       "    </tr>\n",
       "    <tr>\n",
       "      <th>6</th>\n",
       "      <td>0</td>\n",
       "      <td>-2879.202052</td>\n",
       "      <td>43</td>\n",
       "      <td>высшее</td>\n",
       "      <td>0</td>\n",
       "      <td>женат / замужем</td>\n",
       "      <td>0</td>\n",
       "      <td>F</td>\n",
       "      <td>компаньон</td>\n",
       "      <td>0</td>\n",
       "      <td>240525.971920</td>\n",
       "      <td>операции с жильем</td>\n",
       "    </tr>\n",
       "    <tr>\n",
       "      <th>7</th>\n",
       "      <td>0</td>\n",
       "      <td>-152.779569</td>\n",
       "      <td>50</td>\n",
       "      <td>СРЕДНЕЕ</td>\n",
       "      <td>1</td>\n",
       "      <td>женат / замужем</td>\n",
       "      <td>0</td>\n",
       "      <td>M</td>\n",
       "      <td>сотрудник</td>\n",
       "      <td>0</td>\n",
       "      <td>135823.934197</td>\n",
       "      <td>образование</td>\n",
       "    </tr>\n",
       "    <tr>\n",
       "      <th>8</th>\n",
       "      <td>2</td>\n",
       "      <td>-6929.865299</td>\n",
       "      <td>35</td>\n",
       "      <td>ВЫСШЕЕ</td>\n",
       "      <td>0</td>\n",
       "      <td>гражданский брак</td>\n",
       "      <td>1</td>\n",
       "      <td>F</td>\n",
       "      <td>сотрудник</td>\n",
       "      <td>0</td>\n",
       "      <td>95856.832424</td>\n",
       "      <td>на проведение свадьбы</td>\n",
       "    </tr>\n",
       "    <tr>\n",
       "      <th>9</th>\n",
       "      <td>0</td>\n",
       "      <td>-2188.756445</td>\n",
       "      <td>41</td>\n",
       "      <td>среднее</td>\n",
       "      <td>1</td>\n",
       "      <td>женат / замужем</td>\n",
       "      <td>0</td>\n",
       "      <td>M</td>\n",
       "      <td>сотрудник</td>\n",
       "      <td>0</td>\n",
       "      <td>144425.938277</td>\n",
       "      <td>покупка жилья для семьи</td>\n",
       "    </tr>\n",
       "  </tbody>\n",
       "</table>\n",
       "</div>"
      ],
      "text/plain": [
       "   children  days_employed  dob_years education  education_id  \\\n",
       "0         1   -8437.673028         42    высшее             0   \n",
       "1         1   -4024.803754         36   среднее             1   \n",
       "2         0   -5623.422610         33   Среднее             1   \n",
       "3         3   -4124.747207         32   среднее             1   \n",
       "4         0  340266.072047         53   среднее             1   \n",
       "5         0    -926.185831         27    высшее             0   \n",
       "6         0   -2879.202052         43    высшее             0   \n",
       "7         0    -152.779569         50   СРЕДНЕЕ             1   \n",
       "8         2   -6929.865299         35    ВЫСШЕЕ             0   \n",
       "9         0   -2188.756445         41   среднее             1   \n",
       "\n",
       "      family_status  family_status_id gender income_type  debt   total_income  \\\n",
       "0   женат / замужем                 0      F   сотрудник     0  253875.639453   \n",
       "1   женат / замужем                 0      F   сотрудник     0  112080.014102   \n",
       "2   женат / замужем                 0      M   сотрудник     0  145885.952297   \n",
       "3   женат / замужем                 0      M   сотрудник     0  267628.550329   \n",
       "4  гражданский брак                 1      F   пенсионер     0  158616.077870   \n",
       "5  гражданский брак                 1      M   компаньон     0  255763.565419   \n",
       "6   женат / замужем                 0      F   компаньон     0  240525.971920   \n",
       "7   женат / замужем                 0      M   сотрудник     0  135823.934197   \n",
       "8  гражданский брак                 1      F   сотрудник     0   95856.832424   \n",
       "9   женат / замужем                 0      M   сотрудник     0  144425.938277   \n",
       "\n",
       "                      purpose  \n",
       "0               покупка жилья  \n",
       "1     приобретение автомобиля  \n",
       "2               покупка жилья  \n",
       "3  дополнительное образование  \n",
       "4             сыграть свадьбу  \n",
       "5               покупка жилья  \n",
       "6           операции с жильем  \n",
       "7                 образование  \n",
       "8       на проведение свадьбы  \n",
       "9     покупка жилья для семьи  "
      ]
     },
     "execution_count": 3,
     "metadata": {},
     "output_type": "execute_result"
    }
   ],
   "source": [
    "scoring.head(10)"
   ]
  },
  {
   "cell_type": "code",
   "execution_count": 4,
   "metadata": {},
   "outputs": [
    {
     "data": {
      "text/plain": [
       "3445"
      ]
     },
     "execution_count": 4,
     "metadata": {},
     "output_type": "execute_result"
    }
   ],
   "source": [
    "# видим, что из ряда отрицательных значений стажа выбивается группа огромных положительных значений. Подсчитаем размер этой группы.\n",
    "len(scoring[scoring[\"days_employed\"] > 0][\"days_employed\"])"
   ]
  },
  {
   "cell_type": "code",
   "execution_count": 5,
   "metadata": {},
   "outputs": [
    {
     "name": "stdout",
     "output_type": "stream",
     "text": [
      "328728.72060451825\n",
      "401755.40047533\n"
     ]
    }
   ],
   "source": [
    "# видим, что из ряда отрицательных значений стажа выбивается группа огромных положительных значений. Найдем ее границы.\n",
    "print(scoring[scoring[\"days_employed\"] > 0][\"days_employed\"].min())\n",
    "print(scoring[scoring[\"days_employed\"] > 0][\"days_employed\"].max())"
   ]
  },
  {
   "cell_type": "markdown",
   "metadata": {},
   "source": [
    "### Вывод"
   ]
  },
  {
   "cell_type": "markdown",
   "metadata": {},
   "source": [
    "Мы видим, что у нас имеется 3445 значения, которые не могут означать количество дней стажа, так как все они значительно больше 300 000. Заметим, что наименьшее из них - 328728 - составляет почти ровно 900 лет, а наибольшее - 401755 - почти точно 1100 лет. Предположим, что дело в опечатках (к примеру, работник банка вбил \"0\" вместо \"9\"), и попробуем восстановить верные даты. Появление же отрицательных значений можно объяснить тем, что из даты начала стажа вычитали дату конца стажа, а не наоборот.\n",
    "\n",
    "Кроме того, заметим, что у нас есть 21525 - 19351 = 2174 пропуска в столбцах стажа и дохода. Можно было бы предположить, что пропуски в столбце дохода являются неслучайными (бедные и богатые люди не любят указывать свой размер дохода), однако точное соответствие пропусков в столбце дохода пропускам в столбце стажа заставляет предположить случайный характер пропусков (в каком-то отделении банка люди заполняли неверную анкету)."
   ]
  },
  {
   "cell_type": "markdown",
   "metadata": {},
   "source": [
    "### Шаг 2. Предобработка данных"
   ]
  },
  {
   "cell_type": "markdown",
   "metadata": {},
   "source": [
    "### Обработка пропусков"
   ]
  },
  {
   "cell_type": "code",
   "execution_count": 6,
   "metadata": {},
   "outputs": [],
   "source": [
    "scoring['education'] = scoring['education'].str.lower()\n",
    "scoring['family_status'] = scoring['family_status'].str.lower()\n",
    "# для начала приведем все значения к нижнему регистру"
   ]
  },
  {
   "cell_type": "code",
   "execution_count": 7,
   "metadata": {},
   "outputs": [],
   "source": [
    "# так как у нас всего 2 предпринимателя, объединим их с компаньонами\n",
    "scoring.loc[scoring[\"income_type\"] == 'предприниматель', \"income_type\"] = \"компаньон\" \n",
    "# так как у нас всего 2 безработных, 1 человек в декрете и 1 студент, объединим их с пенсионерами (все эти группы живут на пособие)\n",
    "for i in ['безработный', 'студент', 'в декрете']:\n",
    "    scoring.loc[scoring[\"income_type\"] == i, \"income_type\"] = \"пенсионер\" "
   ]
  },
  {
   "cell_type": "code",
   "execution_count": 8,
   "metadata": {},
   "outputs": [],
   "source": [
    "max_exp = scoring[scoring[\"days_employed\"] < 0][\"days_employed\"].min() * (-1) # находим максимальную величину \"настоящего\" стажа\n",
    "scoring.loc[scoring['days_employed'] > (365 * 1100 - max_exp), 'days_employed'] -= (1100 * 365) # корректируем ошибку в 1100 лет стажа\n",
    "scoring.loc[scoring['days_employed'] > (365 * 1000 - max_exp), 'days_employed'] -= (1000 * 365) # корректируем ошибку в 1000 лет стажа\n",
    "scoring.loc[scoring['days_employed'] > (365 * 900 - max_exp), 'days_employed'] -= (900 * 365) # корректируем ошибку в 900 лет стажа\n",
    "scoring['days_employed'] = scoring['days_employed'].abs() # переводим отрицательные величины стажа в положительные"
   ]
  },
  {
   "cell_type": "code",
   "execution_count": 9,
   "metadata": {},
   "outputs": [],
   "source": [
    "# создадим функцию для расчёта среднего возраста по типу занятости\n",
    "def mean_age_by_income_type(df, income_type):\n",
    "    for i in [\"пенсионер\", \"госслужащий\", \"компаньон\", \"сотрудник\"]: \n",
    "        if income_type == i:\n",
    "            return df[(df[\"income_type\"] == i) & (scoring['dob_years'] != 0)][\"dob_years\"].mean()"
   ]
  },
  {
   "cell_type": "code",
   "execution_count": 10,
   "metadata": {},
   "outputs": [],
   "source": [
    "# найдем средний возраст по типу занятости и присвоим эти значения нулевым значениям возраста\n",
    "for i in [\"пенсионер\", \"госслужащий\", \"компаньон\", \"сотрудник\"]:\n",
    "    scoring.loc[(scoring['dob_years'] == 0) & (scoring[\"income_type\"] == i), 'dob_years'] = mean_age_by_income_type(scoring, i)"
   ]
  },
  {
   "cell_type": "code",
   "execution_count": 11,
   "metadata": {},
   "outputs": [],
   "source": [
    "# создадим функцию для расчёта среднего стажа по типу занятости\n",
    "def mean_exp_by_income_type(df, income_type):\n",
    "    for i in [\"пенсионер\", \"госслужащий\", \"компаньон\", \"сотрудник\"]: \n",
    "        if income_type == i:\n",
    "            return df[df['income_type'] == i]['days_employed'].mean()"
   ]
  },
  {
   "cell_type": "code",
   "execution_count": 12,
   "metadata": {},
   "outputs": [],
   "source": [
    "# найдем средний стаж по типу занятости и присвоим эти значения пропускам\n",
    "for i in [\"пенсионер\", \"госслужащий\", \"компаньон\", \"сотрудник\"]:\n",
    "    scoring.loc[scoring[\"income_type\"] == i, \"days_employed\"] = scoring.loc[scoring[\"income_type\"] == i, \"days_employed\"].fillna(mean_exp_by_income_type(scoring, i))"
   ]
  },
  {
   "cell_type": "code",
   "execution_count": 13,
   "metadata": {},
   "outputs": [],
   "source": [
    "# создадим функцию для расчёта среднего дохода по типу занятости\n",
    "def mean_income_by_income_type(df, income_type):\n",
    "    for i in [\"пенсионер\", \"госслужащий\", \"компаньон\", \"сотрудник\"]: \n",
    "        if income_type == i:\n",
    "            return df[df['income_type'] == i]['total_income'].median()"
   ]
  },
  {
   "cell_type": "code",
   "execution_count": 14,
   "metadata": {},
   "outputs": [],
   "source": [
    "# найдем средний доход по типу занятости и присвоим эти значения пропускам\n",
    "for i in [\"пенсионер\", \"госслужащий\", \"компаньон\", \"сотрудник\"]:\n",
    "    scoring.loc[scoring[\"income_type\"] == i, \"total_income\"] = scoring.loc[scoring[\"income_type\"] == i, \"total_income\"].fillna(scoring.loc[scoring[\"income_type\"] == i, 'total_income'].median())"
   ]
  },
  {
   "cell_type": "code",
   "execution_count": 15,
   "metadata": {},
   "outputs": [],
   "source": [
    "scoring.loc[scoring['children'] == 20, 'children'] = 2 #корректируем аномальное количество детей\n",
    "scoring.loc[scoring['children'] == -1, 'children'] = 1 #корректируем аномальное количество детей"
   ]
  },
  {
   "cell_type": "markdown",
   "metadata": {},
   "source": [
    "### Вывод"
   ]
  },
  {
   "cell_type": "markdown",
   "metadata": {},
   "source": [
    "Все пропуски в столбцах \"стаж\", \"доход\", нулевые значения в столбце \"возраст\" исправлены на средние значения по типу занятости, а аномальное количество детей - на нормальное."
   ]
  },
  {
   "cell_type": "markdown",
   "metadata": {},
   "source": [
    "### Замена типа данных"
   ]
  },
  {
   "cell_type": "code",
   "execution_count": 16,
   "metadata": {},
   "outputs": [],
   "source": [
    "scoring['days_employed'] = scoring['days_employed'].astype('int')\n",
    "scoring['total_income'] = scoring['total_income'].astype('int')\n",
    "scoring['dob_years'] = scoring['dob_years'].astype('int')"
   ]
  },
  {
   "cell_type": "markdown",
   "metadata": {},
   "source": [
    "### Вывод"
   ]
  },
  {
   "cell_type": "markdown",
   "metadata": {},
   "source": [
    "Из общей информации о таблице (шаг 1) мы видим, что столбцы стажа и дохода имеют вещественный тип. Заменим его на целочисленный.\n",
    "Использован метод .astype()"
   ]
  },
  {
   "cell_type": "markdown",
   "metadata": {},
   "source": [
    "### Обработка дубликатов"
   ]
  },
  {
   "cell_type": "code",
   "execution_count": 17,
   "metadata": {},
   "outputs": [
    {
     "name": "stdout",
     "output_type": "stream",
     "text": [
      "71\n"
     ]
    }
   ],
   "source": [
    "print(scoring.duplicated().sum())\n",
    "scoring = scoring.drop_duplicates().reset_index(drop = True)"
   ]
  },
  {
   "cell_type": "markdown",
   "metadata": {},
   "source": [
    "### Вывод"
   ]
  },
  {
   "cell_type": "markdown",
   "metadata": {},
   "source": [
    "Возможные причины появления дубликатов: случайный copy-paste, случайные опечатки в ФИО, которые привели к созданию \"клонов\". Так как строк-дубликатов всего 71, просто избавимся от них."
   ]
  },
  {
   "cell_type": "markdown",
   "metadata": {},
   "source": [
    "### Лемматизация"
   ]
  },
  {
   "cell_type": "code",
   "execution_count": 18,
   "metadata": {
    "scrolled": false
   },
   "outputs": [],
   "source": [
    "# from pymystem3 import Mystem\n",
    "# m = Mystem()"
   ]
  },
  {
   "cell_type": "code",
   "execution_count": 19,
   "metadata": {},
   "outputs": [],
   "source": [
    "# scoring['purpose'].unique() # изучим основные цели кредита и попробуем их сгруппировать при помощи лемматизации\n",
    "# # заметно, что цели можно объединить в \"свадьбу\", \"покупку жилья\", \"покупку авто\", \"образование\", \"коммерческую недвижимость\""
   ]
  },
  {
   "cell_type": "code",
   "execution_count": 20,
   "metadata": {},
   "outputs": [],
   "source": [
    "# def lemming(row): #создадим функцию для лемматизации цели кредита\n",
    "#     lemmas = m.lemmatize(row['purpose'])\n",
    "#     if \"свадьба\" in lemmas:\n",
    "#         return \"свадьба\"\n",
    "#     if \"автомобиль\" in lemmas:\n",
    "#         return \"автомобиль\"\n",
    "#     if \"образование\" in lemmas:\n",
    "#         return \"образование\"\n",
    "#     if \"коммерческий\" in lemmas:\n",
    "#         return \"коммерческая_недвижимость\"\n",
    "#     if \"жилье\" in lemmas:\n",
    "#         return \"жильё\"\n",
    "#     if \"недвижимость\" in lemmas:\n",
    "#         return \"жильё\"\n",
    "# scoring['purpose_lemm'] = scoring.apply(lemming, axis=1) #выводим лемматизированные значения цели кредита в отдельный столбец"
   ]
  },
  {
   "cell_type": "markdown",
   "metadata": {},
   "source": [
    "### Вывод"
   ]
  },
  {
   "cell_type": "markdown",
   "metadata": {},
   "source": [
    "Разнообразные цели получения кредита сведены к нескольким стандартным."
   ]
  },
  {
   "cell_type": "markdown",
   "metadata": {},
   "source": [
    "### Категоризация данных"
   ]
  },
  {
   "cell_type": "code",
   "execution_count": 21,
   "metadata": {},
   "outputs": [],
   "source": [
    "def if_child(row): #разделим всех заемщиков на бездетных (индекс 0) и имеющих детей (индекс 1)\n",
    "    child_index = row['children']\n",
    "    if child_index == 0:\n",
    "        return 0\n",
    "    return 1\n",
    "scoring['child_index'] = scoring.apply(if_child, axis=1)"
   ]
  },
  {
   "cell_type": "code",
   "execution_count": 22,
   "metadata": {},
   "outputs": [],
   "source": [
    "def if_ever_married(row): #разделим всех заемщиков на оформлявших свои отношения (индекс 1) и не оформлявших (индекс 0)\n",
    "    family_status = row['family_status']\n",
    "    if (family_status == \"женат / замужем\") or (family_status == \"в разводе\") or (family_status == \"вдовец / вдова\"):\n",
    "        return 1\n",
    "    return 0\n",
    "scoring['family_status_id'] = scoring.apply(if_ever_married, axis=1)"
   ]
  },
  {
   "cell_type": "code",
   "execution_count": 23,
   "metadata": {},
   "outputs": [],
   "source": [
    "import numpy as np"
   ]
  },
  {
   "cell_type": "code",
   "execution_count": 24,
   "metadata": {},
   "outputs": [],
   "source": [
    "a = np.array(scoring['total_income']) #посчитаем квантили заемщиков по доходам\n",
    "low20 = np.percentile(a, 20)\n",
    "low40 = np.percentile(a, 40)\n",
    "low60 = np.percentile(a, 60)\n",
    "low80 = np.percentile(a, 80)"
   ]
  },
  {
   "cell_type": "code",
   "execution_count": 25,
   "metadata": {},
   "outputs": [],
   "source": [
    "def richness(row):\n",
    "    if row[\"total_income\"] <= low20:\n",
    "        return(\"1 квантиль\")\n",
    "    if row[\"total_income\"] <= low40:\n",
    "        return(\"2 квантиль\")\n",
    "    if row[\"total_income\"] <= low60:\n",
    "        return(\"3 квантиль\")    \n",
    "    if row[\"total_income\"] <= low80:\n",
    "        return(\"4 квантиль\")\n",
    "    return(\"5 квантиль\")\n",
    "scoring['quantile'] = scoring.apply(richness, axis=1)"
   ]
  },
  {
   "cell_type": "markdown",
   "metadata": {},
   "source": [
    "### Вывод"
   ]
  },
  {
   "cell_type": "markdown",
   "metadata": {},
   "source": [
    "Получатели кредита категоризированы на типы \"с детьми\"/\"без детей\", \"регистрировавшие свои отношения\"/\"не бывавшие в официальном браке\" и поделены на квантили по доходам."
   ]
  },
  {
   "cell_type": "markdown",
   "metadata": {},
   "source": [
    "### Шаг 3. Ответьте на вопросы"
   ]
  },
  {
   "cell_type": "markdown",
   "metadata": {},
   "source": [
    "- Есть ли зависимость между наличием детей и возвратом кредита в срок?"
   ]
  },
  {
   "cell_type": "code",
   "execution_count": 26,
   "metadata": {},
   "outputs": [
    {
     "data": {
      "text/plain": [
       "child_index\n",
       "0    0.075438\n",
       "1    0.092082\n",
       "Name: debt, dtype: float64"
      ]
     },
     "execution_count": 26,
     "metadata": {},
     "output_type": "execute_result"
    }
   ],
   "source": [
    "scoring.groupby('child_index')['debt'].mean()"
   ]
  },
  {
   "cell_type": "markdown",
   "metadata": {},
   "source": [
    "### Вывод"
   ]
  },
  {
   "cell_type": "markdown",
   "metadata": {},
   "source": [
    "Наличие детей серьезно увеличивает вероятность несвоевременного возврата."
   ]
  },
  {
   "cell_type": "markdown",
   "metadata": {},
   "source": [
    "- Есть ли зависимость между семейным положением и возвратом кредита в срок?"
   ]
  },
  {
   "cell_type": "code",
   "execution_count": 27,
   "metadata": {},
   "outputs": [
    {
     "data": {
      "text/plain": [
       "family_status_id\n",
       "0    0.095101\n",
       "1    0.074450\n",
       "Name: debt, dtype: float64"
      ]
     },
     "execution_count": 27,
     "metadata": {},
     "output_type": "execute_result"
    }
   ],
   "source": [
    "scoring.groupby('family_status_id')['debt'].mean()"
   ]
  },
  {
   "cell_type": "markdown",
   "metadata": {},
   "source": [
    "### Вывод"
   ]
  },
  {
   "cell_type": "markdown",
   "metadata": {},
   "source": [
    "Люди, когда-либо регистрировавшие свои отношения (женатые/замужние, разведенные, вдовые), более ответственно относятся к платежам, чем те, кто этого не делал (холостые и живущие в гражданском браке)"
   ]
  },
  {
   "cell_type": "markdown",
   "metadata": {},
   "source": [
    "- Есть ли зависимость между уровнем дохода и возвратом кредита в срок?"
   ]
  },
  {
   "cell_type": "code",
   "execution_count": 28,
   "metadata": {},
   "outputs": [
    {
     "data": {
      "text/html": [
       "<div>\n",
       "<style scoped>\n",
       "    .dataframe tbody tr th:only-of-type {\n",
       "        vertical-align: middle;\n",
       "    }\n",
       "\n",
       "    .dataframe tbody tr th {\n",
       "        vertical-align: top;\n",
       "    }\n",
       "\n",
       "    .dataframe thead th {\n",
       "        text-align: right;\n",
       "    }\n",
       "</style>\n",
       "<table border=\"1\" class=\"dataframe\">\n",
       "  <thead>\n",
       "    <tr style=\"text-align: right;\">\n",
       "      <th></th>\n",
       "      <th>debt</th>\n",
       "    </tr>\n",
       "    <tr>\n",
       "      <th>quantile</th>\n",
       "      <th></th>\n",
       "    </tr>\n",
       "  </thead>\n",
       "  <tbody>\n",
       "    <tr>\n",
       "      <th>1 квантиль</th>\n",
       "      <td>0.080168</td>\n",
       "    </tr>\n",
       "    <tr>\n",
       "      <th>2 квантиль</th>\n",
       "      <td>0.084130</td>\n",
       "    </tr>\n",
       "    <tr>\n",
       "      <th>3 квантиль</th>\n",
       "      <td>0.087413</td>\n",
       "    </tr>\n",
       "    <tr>\n",
       "      <th>4 квантиль</th>\n",
       "      <td>0.084130</td>\n",
       "    </tr>\n",
       "    <tr>\n",
       "      <th>5 квантиль</th>\n",
       "      <td>0.069914</td>\n",
       "    </tr>\n",
       "    <tr>\n",
       "      <th>All</th>\n",
       "      <td>0.081150</td>\n",
       "    </tr>\n",
       "  </tbody>\n",
       "</table>\n",
       "</div>"
      ],
      "text/plain": [
       "                debt\n",
       "quantile            \n",
       "1 квантиль  0.080168\n",
       "2 квантиль  0.084130\n",
       "3 квантиль  0.087413\n",
       "4 квантиль  0.084130\n",
       "5 квантиль  0.069914\n",
       "All         0.081150"
      ]
     },
     "execution_count": 28,
     "metadata": {},
     "output_type": "execute_result"
    }
   ],
   "source": [
    "#для большей наглядности продемонстрируем зависимость при помощи сводной таблицы, а не группировки \n",
    "scoring.pivot_table(index='quantile', values='debt', aggfunc='mean', margins=True) "
   ]
  },
  {
   "cell_type": "markdown",
   "metadata": {},
   "source": [
    "### Вывод"
   ]
  },
  {
   "cell_type": "markdown",
   "metadata": {},
   "source": [
    "Наиболее дисциплинированно платят свои долги самые богатые (5 квантиль), и, как ни парадоксально, самые бедные - 1 квантиль (кроме госслужащих). Хуже всего - 3 квантиль."
   ]
  },
  {
   "cell_type": "markdown",
   "metadata": {},
   "source": [
    "- Как разные цели кредита влияют на его возврат в срок?"
   ]
  },
  {
   "cell_type": "code",
   "execution_count": 29,
   "metadata": {},
   "outputs": [],
   "source": [
    "#scoring.groupby('purpose_lemm')['debt'].mean()"
   ]
  },
  {
   "cell_type": "markdown",
   "metadata": {},
   "source": [
    "### Вывод"
   ]
  },
  {
   "cell_type": "markdown",
   "metadata": {},
   "source": [
    "Платежи по ипотеке выплачивают надежнее всего (никому не хочется потерять своё жильё).\n",
    "Также хорошо выплачиваются кредиты на коммерческую недвижимость (видимо, бизнесмены хорошо рассчитывают свои финансы).\n",
    "Относительно неплохо выплачиваются кредиты на свадьбу (можно предположить, что этому способствует небольшой размер кредита и помощь родителей жениха и невесты).\n",
    "Хуже всего платят кредиты на образование (сложно получить хороший доход сразу после выпуска) и автомобиль (это пока еще всё-таки роскошь для населения)."
   ]
  },
  {
   "cell_type": "markdown",
   "metadata": {},
   "source": [
    "### Шаг 4. Общий вывод"
   ]
  },
  {
   "cell_type": "markdown",
   "metadata": {},
   "source": [
    "В ходе работы были проанализированы недостатки входящих данных о заёмщиках (пропуски, дубликаты, артефакты), причины их появления (опечатки и неполный сбор информации). Отсутствующие данные по возрасту, стажу и доходу были заполнены при помощи средних показателей по группе занятости заемщика (пенсионер, компаньон, госслужащий, сотрудник). При помощи лемматизации данных были приведены к стандартному виду цели кредита.\n",
    "\n",
    "После предобработки данных заемщики были разделены на категории по наличию детей, семейному положению, цели кредита и разбиты на квантили по уровню дохода. \n",
    "\n",
    "Полученный результат показал, что появление детей резко увеличивает вероятность появления задолженности по кредиту (с 7,5 % до 9,2 %). В то же время те, кто когда-либо официально вступал в брак, более надежные заемщики, чем те, кто предпочитает холостую жизнь или свободные отношения (7,4 % должников против 9,5 %).\n",
    "\n",
    "Что касается целей кредита, наиболее стабильно выплачиваются ипотечные кредиты (7,1% должников), хуже всего - кредиты на образование и автомобиль (9,2% и 9,4% соответственно). \n",
    "\n",
    "Если говорить о зависимости задолженности от уровня дохода, то наиболее надежными заёмщиками являются 20% наиболее обеспеченных людей (всего лишь 6,9 % из них вовремя не выплачивают займ). Наибольший процент задолженности - у среднего в математическом смысле класса, третьего квантиля (8,7 %), что демонстрирует опережающий рост потребностей при недостаточном уровне дохода у этой группы."
   ]
  }
 ],
 "metadata": {
  "kernelspec": {
   "display_name": "Python 3",
   "language": "python",
   "name": "python3"
  },
  "language_info": {
   "codemirror_mode": {
    "name": "ipython",
    "version": 3
   },
   "file_extension": ".py",
   "mimetype": "text/x-python",
   "name": "python",
   "nbconvert_exporter": "python",
   "pygments_lexer": "ipython3",
   "version": "3.7.4"
  }
 },
 "nbformat": 4,
 "nbformat_minor": 2
}
