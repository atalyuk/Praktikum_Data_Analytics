{
 "cells": [
  {
   "cell_type": "markdown",
   "metadata": {},
   "source": [
    "### Шаг 1. Откройте файл с данными и изучите общую информацию\n",
    "\n",
    "В нашем распоряжении исторические данные о продажах игр, оценки пользователей и экспертов, жанры и платформы. Нам нужно выявить определяющие успешность игры закономерности."
   ]
  },
  {
   "cell_type": "code",
   "execution_count": 1,
   "metadata": {},
   "outputs": [],
   "source": [
    "import pandas as pd\n",
    "import matplotlib.pyplot as plt\n",
    "from scipy import stats as st"
   ]
  },
  {
   "cell_type": "code",
   "execution_count": 2,
   "metadata": {},
   "outputs": [],
   "source": [
    "games = pd.read_csv('/datasets/games.csv')"
   ]
  },
  {
   "cell_type": "code",
   "execution_count": 3,
   "metadata": {},
   "outputs": [
    {
     "name": "stdout",
     "output_type": "stream",
     "text": [
      "<class 'pandas.core.frame.DataFrame'>\n",
      "RangeIndex: 16715 entries, 0 to 16714\n",
      "Data columns (total 11 columns):\n",
      "Name               16713 non-null object\n",
      "Platform           16715 non-null object\n",
      "Year_of_Release    16446 non-null float64\n",
      "Genre              16713 non-null object\n",
      "NA_sales           16715 non-null float64\n",
      "EU_sales           16715 non-null float64\n",
      "JP_sales           16715 non-null float64\n",
      "Other_sales        16715 non-null float64\n",
      "Critic_Score       8137 non-null float64\n",
      "User_Score         10014 non-null object\n",
      "Rating             9949 non-null object\n",
      "dtypes: float64(6), object(5)\n",
      "memory usage: 1.4+ MB\n"
     ]
    }
   ],
   "source": [
    "games.info()"
   ]
  },
  {
   "cell_type": "markdown",
   "metadata": {},
   "source": [
    "#### Вывод по шагу 1.\n",
    "\n",
    "Как мы видим, в имеющемся датасете пропущены часть пользовательских и экспертных рейтингов, не везде известен возрастной порог. Кроме того, рейтинг пользователей сохранен в формате object, а не float64. \n",
    "\n",
    "Возможные причины появления пропусков:\n",
    "- во время выхода старых игр не было платформ для рецензирования как критиками, так и пользователями\n",
    "- новым играм могли не успели выставить оценки\n",
    "- некоторые игры оказалась слишком непопулярными, чтобы аккумулировать достаточный набор оценок\n",
    "\n",
    "В то же время заполнить пропуски в рейтингах, не искажая общую картину, не представляется возможным, так как рейтинг конкретной игры не зависит от года выпуска или платформы."
   ]
  },
  {
   "cell_type": "markdown",
   "metadata": {},
   "source": [
    "<p style=\"color:green\">Данные загружены и изучены, отлично</p>"
   ]
  },
  {
   "cell_type": "markdown",
   "metadata": {},
   "source": [
    "### Шаг 2. Подготовьте данные"
   ]
  },
  {
   "cell_type": "code",
   "execution_count": 4,
   "metadata": {},
   "outputs": [],
   "source": [
    "games.columns = map(str.lower, games.columns) # приводим названия столбцов к нижнему регистру"
   ]
  },
  {
   "cell_type": "code",
   "execution_count": 5,
   "metadata": {},
   "outputs": [],
   "source": [
    "games['user_score'] = games['user_score'].replace({'tbd': None})\n",
    "# значение TBD (to be determined) заменим пропусками, так как предуагадать пользовательский рейтинг игр, \n",
    "# не исказив общую картину, мы не можем\n",
    "games['user_score'] = games['user_score'].astype('float') # приводим пользовательский рейтинг к типу данных float\n",
    "games['user_score'] = 10 * games['user_score'] # приводим рейтинг критиков и геймеров к единой шкале"
   ]
  },
  {
   "cell_type": "code",
   "execution_count": 6,
   "metadata": {},
   "outputs": [
    {
     "data": {
      "text/html": [
       "<div>\n",
       "<style scoped>\n",
       "    .dataframe tbody tr th:only-of-type {\n",
       "        vertical-align: middle;\n",
       "    }\n",
       "\n",
       "    .dataframe tbody tr th {\n",
       "        vertical-align: top;\n",
       "    }\n",
       "\n",
       "    .dataframe thead th {\n",
       "        text-align: right;\n",
       "    }\n",
       "</style>\n",
       "<table border=\"1\" class=\"dataframe\">\n",
       "  <thead>\n",
       "    <tr style=\"text-align: right;\">\n",
       "      <th></th>\n",
       "      <th>name</th>\n",
       "      <th>platform</th>\n",
       "      <th>year_of_release</th>\n",
       "      <th>genre</th>\n",
       "      <th>na_sales</th>\n",
       "      <th>eu_sales</th>\n",
       "      <th>jp_sales</th>\n",
       "      <th>other_sales</th>\n",
       "      <th>critic_score</th>\n",
       "      <th>user_score</th>\n",
       "      <th>rating</th>\n",
       "      <th>total_sales</th>\n",
       "    </tr>\n",
       "  </thead>\n",
       "  <tbody>\n",
       "    <tr>\n",
       "      <td>0</td>\n",
       "      <td>Wii Sports</td>\n",
       "      <td>Wii</td>\n",
       "      <td>2006.0</td>\n",
       "      <td>Sports</td>\n",
       "      <td>41.36</td>\n",
       "      <td>28.96</td>\n",
       "      <td>3.77</td>\n",
       "      <td>8.45</td>\n",
       "      <td>76.0</td>\n",
       "      <td>80.0</td>\n",
       "      <td>E</td>\n",
       "      <td>82.54</td>\n",
       "    </tr>\n",
       "    <tr>\n",
       "      <td>1</td>\n",
       "      <td>Super Mario Bros.</td>\n",
       "      <td>NES</td>\n",
       "      <td>1985.0</td>\n",
       "      <td>Platform</td>\n",
       "      <td>29.08</td>\n",
       "      <td>3.58</td>\n",
       "      <td>6.81</td>\n",
       "      <td>0.77</td>\n",
       "      <td>NaN</td>\n",
       "      <td>NaN</td>\n",
       "      <td>NaN</td>\n",
       "      <td>40.24</td>\n",
       "    </tr>\n",
       "    <tr>\n",
       "      <td>2</td>\n",
       "      <td>Mario Kart Wii</td>\n",
       "      <td>Wii</td>\n",
       "      <td>2008.0</td>\n",
       "      <td>Racing</td>\n",
       "      <td>15.68</td>\n",
       "      <td>12.76</td>\n",
       "      <td>3.79</td>\n",
       "      <td>3.29</td>\n",
       "      <td>82.0</td>\n",
       "      <td>83.0</td>\n",
       "      <td>E</td>\n",
       "      <td>35.52</td>\n",
       "    </tr>\n",
       "    <tr>\n",
       "      <td>3</td>\n",
       "      <td>Wii Sports Resort</td>\n",
       "      <td>Wii</td>\n",
       "      <td>2009.0</td>\n",
       "      <td>Sports</td>\n",
       "      <td>15.61</td>\n",
       "      <td>10.93</td>\n",
       "      <td>3.28</td>\n",
       "      <td>2.95</td>\n",
       "      <td>80.0</td>\n",
       "      <td>80.0</td>\n",
       "      <td>E</td>\n",
       "      <td>32.77</td>\n",
       "    </tr>\n",
       "    <tr>\n",
       "      <td>4</td>\n",
       "      <td>Pokemon Red/Pokemon Blue</td>\n",
       "      <td>GB</td>\n",
       "      <td>1996.0</td>\n",
       "      <td>Role-Playing</td>\n",
       "      <td>11.27</td>\n",
       "      <td>8.89</td>\n",
       "      <td>10.22</td>\n",
       "      <td>1.00</td>\n",
       "      <td>NaN</td>\n",
       "      <td>NaN</td>\n",
       "      <td>NaN</td>\n",
       "      <td>31.38</td>\n",
       "    </tr>\n",
       "  </tbody>\n",
       "</table>\n",
       "</div>"
      ],
      "text/plain": [
       "                       name platform  year_of_release         genre  na_sales  \\\n",
       "0                Wii Sports      Wii           2006.0        Sports     41.36   \n",
       "1         Super Mario Bros.      NES           1985.0      Platform     29.08   \n",
       "2            Mario Kart Wii      Wii           2008.0        Racing     15.68   \n",
       "3         Wii Sports Resort      Wii           2009.0        Sports     15.61   \n",
       "4  Pokemon Red/Pokemon Blue       GB           1996.0  Role-Playing     11.27   \n",
       "\n",
       "   eu_sales  jp_sales  other_sales  critic_score  user_score rating  \\\n",
       "0     28.96      3.77         8.45          76.0        80.0      E   \n",
       "1      3.58      6.81         0.77           NaN         NaN    NaN   \n",
       "2     12.76      3.79         3.29          82.0        83.0      E   \n",
       "3     10.93      3.28         2.95          80.0        80.0      E   \n",
       "4      8.89     10.22         1.00           NaN         NaN    NaN   \n",
       "\n",
       "   total_sales  \n",
       "0        82.54  \n",
       "1        40.24  \n",
       "2        35.52  \n",
       "3        32.77  \n",
       "4        31.38  "
      ]
     },
     "execution_count": 6,
     "metadata": {},
     "output_type": "execute_result"
    }
   ],
   "source": [
    "# добавляем столбец общих продаж\n",
    "games['total_sales'] = games['na_sales'] + games['eu_sales'] + games['jp_sales'] + games['other_sales']\n",
    "games.head()"
   ]
  },
  {
   "cell_type": "markdown",
   "metadata": {},
   "source": [
    "#### Вывод по шагу 2.\n",
    "\n",
    "Добавлен столбец с общими продажами, типы данных приведены к нужному."
   ]
  },
  {
   "cell_type": "markdown",
   "metadata": {},
   "source": [
    "### Шаг 3. Проведите исследовательский анализ данных"
   ]
  },
  {
   "cell_type": "code",
   "execution_count": 34,
   "metadata": {},
   "outputs": [
    {
     "data": {
      "image/png": "[encoded data removed]",
      "text/plain": [
       "<Figure size 576x288 with 1 Axes>"
      ]
     },
     "metadata": {
      "needs_background": "light"
     },
     "output_type": "display_data"
    }
   ],
   "source": [
    "# построим график продаж игр\n",
    "games_by_year = games.pivot_table(index='year_of_release', values='total_sales', aggfunc='count')\n",
    "games_by_year.plot(grid=True, figsize=(8, 4))\n",
    "plt.xlabel('Годы продаж')\n",
    "plt.ylabel('Объем продаж, млн $')\n",
    "plt.title('График продаж игр по годам')\n",
    "plt.show()"
   ]
  },
  {
   "cell_type": "markdown",
   "metadata": {},
   "source": [
    "Как мы видим, пик продаж пришелся на 2008-2009 гг."
   ]
  },
  {
   "cell_type": "code",
   "execution_count": 8,
   "metadata": {},
   "outputs": [
    {
     "data": {
      "text/html": [
       "<div>\n",
       "<style scoped>\n",
       "    .dataframe tbody tr th:only-of-type {\n",
       "        vertical-align: middle;\n",
       "    }\n",
       "\n",
       "    .dataframe tbody tr th {\n",
       "        vertical-align: top;\n",
       "    }\n",
       "\n",
       "    .dataframe thead th {\n",
       "        text-align: right;\n",
       "    }\n",
       "</style>\n",
       "<table border=\"1\" class=\"dataframe\">\n",
       "  <thead>\n",
       "    <tr style=\"text-align: right;\">\n",
       "      <th></th>\n",
       "      <th>total_sales</th>\n",
       "    </tr>\n",
       "    <tr>\n",
       "      <th>platform</th>\n",
       "      <th></th>\n",
       "    </tr>\n",
       "  </thead>\n",
       "  <tbody>\n",
       "    <tr>\n",
       "      <td>PS2</td>\n",
       "      <td>1255.77</td>\n",
       "    </tr>\n",
       "    <tr>\n",
       "      <td>X360</td>\n",
       "      <td>971.42</td>\n",
       "    </tr>\n",
       "    <tr>\n",
       "      <td>PS3</td>\n",
       "      <td>939.65</td>\n",
       "    </tr>\n",
       "    <tr>\n",
       "      <td>Wii</td>\n",
       "      <td>907.51</td>\n",
       "    </tr>\n",
       "    <tr>\n",
       "      <td>DS</td>\n",
       "      <td>806.12</td>\n",
       "    </tr>\n",
       "  </tbody>\n",
       "</table>\n",
       "</div>"
      ],
      "text/plain": [
       "          total_sales\n",
       "platform             \n",
       "PS2           1255.77\n",
       "X360           971.42\n",
       "PS3            939.65\n",
       "Wii            907.51\n",
       "DS             806.12"
      ]
     },
     "execution_count": 8,
     "metadata": {},
     "output_type": "execute_result"
    }
   ],
   "source": [
    "# найдем платформы с наибольшими суммарными продажами\n",
    "games_by_platform = games.pivot_table(index='platform', values='total_sales', aggfunc='sum')\n",
    "games_by_platform.sort_values(by='total_sales', ascending=False).head(5)"
   ]
  },
  {
   "cell_type": "code",
   "execution_count": 46,
   "metadata": {},
   "outputs": [
    {
     "data": {
      "image/png": "[encoded data removed]",
      "text/plain": [
       "<Figure size 648x360 with 1 Axes>"
      ]
     },
     "metadata": {
      "needs_background": "light"
     },
     "output_type": "display_data"
    }
   ],
   "source": [
    "# найдем распределение продаж по годам для трёх самых популярных платформ\n",
    "fig, ax = plt.subplots(figsize=(9,5))\n",
    "for i in ['PS2', 'X360', 'PS3']:\n",
    "    popular_games = games.loc[games['platform'] == i]\n",
    "    popular_by_year = popular_games.pivot_table(index='year_of_release', values='total_sales', aggfunc='sum')\n",
    "    ax.plot(popular_by_year, label=i)\n",
    "    ax.grid()\n",
    "legend = ax.legend(loc='upper right', shadow=True)\n",
    "plt.xlabel('Годы продаж')\n",
    "plt.ylabel('Объем продаж, млн $')\n",
    "plt.title('График продаж игр для популярных платформ')\n",
    "plt.show()"
   ]
  },
  {
   "cell_type": "markdown",
   "metadata": {},
   "source": [
    "Как можно видеть из графика, срок популярности платформы от появления на рынке до резкого снижения популярности составляет около 5-6 лет. Данный показатель и будем считать <b>актуальным периодом</b>.\n",
    "\n",
    "Кроме того, из графика видно, что популярность моделей, на смену которым пришли новые (PS4 вместо PS3, XOne вместо X360 и т.д.) упала почти до нуля."
   ]
  },
  {
   "cell_type": "code",
   "execution_count": 10,
   "metadata": {},
   "outputs": [],
   "source": [
    "new_games = games.query('year_of_release > 2011') # оставим только данные за актуальный период, с 2012 по 2016 год."
   ]
  },
  {
   "cell_type": "code",
   "execution_count": 11,
   "metadata": {},
   "outputs": [
    {
     "data": {
      "text/html": [
       "<div>\n",
       "<style scoped>\n",
       "    .dataframe tbody tr th:only-of-type {\n",
       "        vertical-align: middle;\n",
       "    }\n",
       "\n",
       "    .dataframe tbody tr th {\n",
       "        vertical-align: top;\n",
       "    }\n",
       "\n",
       "    .dataframe thead th {\n",
       "        text-align: right;\n",
       "    }\n",
       "</style>\n",
       "<table border=\"1\" class=\"dataframe\">\n",
       "  <thead>\n",
       "    <tr style=\"text-align: right;\">\n",
       "      <th></th>\n",
       "      <th>total_sales</th>\n",
       "    </tr>\n",
       "    <tr>\n",
       "      <th>platform</th>\n",
       "      <th></th>\n",
       "    </tr>\n",
       "  </thead>\n",
       "  <tbody>\n",
       "    <tr>\n",
       "      <td>PS4</td>\n",
       "      <td>314.14</td>\n",
       "    </tr>\n",
       "    <tr>\n",
       "      <td>PS3</td>\n",
       "      <td>288.79</td>\n",
       "    </tr>\n",
       "    <tr>\n",
       "      <td>X360</td>\n",
       "      <td>236.54</td>\n",
       "    </tr>\n",
       "    <tr>\n",
       "      <td>3DS</td>\n",
       "      <td>194.61</td>\n",
       "    </tr>\n",
       "    <tr>\n",
       "      <td>XOne</td>\n",
       "      <td>159.32</td>\n",
       "    </tr>\n",
       "    <tr>\n",
       "      <td>WiiU</td>\n",
       "      <td>82.19</td>\n",
       "    </tr>\n",
       "    <tr>\n",
       "      <td>PC</td>\n",
       "      <td>62.65</td>\n",
       "    </tr>\n",
       "    <tr>\n",
       "      <td>PSV</td>\n",
       "      <td>49.18</td>\n",
       "    </tr>\n",
       "    <tr>\n",
       "      <td>Wii</td>\n",
       "      <td>35.37</td>\n",
       "    </tr>\n",
       "    <tr>\n",
       "      <td>DS</td>\n",
       "      <td>12.55</td>\n",
       "    </tr>\n",
       "    <tr>\n",
       "      <td>PSP</td>\n",
       "      <td>11.19</td>\n",
       "    </tr>\n",
       "  </tbody>\n",
       "</table>\n",
       "</div>"
      ],
      "text/plain": [
       "          total_sales\n",
       "platform             \n",
       "PS4            314.14\n",
       "PS3            288.79\n",
       "X360           236.54\n",
       "3DS            194.61\n",
       "XOne           159.32\n",
       "WiiU            82.19\n",
       "PC              62.65\n",
       "PSV             49.18\n",
       "Wii             35.37\n",
       "DS              12.55\n",
       "PSP             11.19"
      ]
     },
     "execution_count": 11,
     "metadata": {},
     "output_type": "execute_result"
    }
   ],
   "source": [
    "# выясним объем продаж по платформам за актуальный период\n",
    "new_games_by_platform = new_games.pivot_table(index='platform', values='total_sales', aggfunc='sum')\n",
    "new_games_by_platform.sort_values(by='total_sales', ascending=False)"
   ]
  },
  {
   "cell_type": "code",
   "execution_count": 37,
   "metadata": {},
   "outputs": [
    {
     "data": {
      "image/png": "[encoded data removed]",
      "text/plain": [
       "<Figure size 648x360 with 1 Axes>"
      ]
     },
     "metadata": {
      "needs_background": "light"
     },
     "output_type": "display_data"
    }
   ],
   "source": [
    "# найдем распределение продаж по годам для самых популярных платформ за последние 5 лет, исключая устаревшие\n",
    "fig, ax = plt.subplots(figsize=(9,5))\n",
    "for i in ['PS4', '3DS', 'XOne', 'WiiU', 'PC', 'PSV']: # из списка платформ убираем PS3, X360, PSP, Wii и DS\n",
    "    i_games = new_games.loc[new_games['platform'] == i]\n",
    "    i_by_year = i_games.pivot_table(index='year_of_release', values='total_sales', aggfunc='sum')\n",
    "    ax.grid(color = 'gray')\n",
    "    ax.plot(i_by_year, label=i)\n",
    "legend = ax.legend(loc='upper left', shadow=True)\n",
    "plt.xticks(new_games['year_of_release'])\n",
    "plt.xlabel('Годы продаж')\n",
    "plt.ylabel('Объем продаж, млн $')\n",
    "plt.title('График продаж игр для популярных платформ')\n",
    "plt.show()"
   ]
  },
  {
   "cell_type": "code",
   "execution_count": 13,
   "metadata": {},
   "outputs": [
    {
     "data": {
      "image/png": "[encoded data removed]",
      "text/plain": [
       "<Figure size 648x432 with 1 Axes>"
      ]
     },
     "metadata": {
      "needs_background": "light"
     },
     "output_type": "display_data"
    }
   ],
   "source": [
    "# построим \"ящики с усами\" для популярных платформ, исключая устаревшие\n",
    "fig = plt.figure(1, figsize=(9, 6))\n",
    "ax = fig.add_subplot(111)\n",
    "ax.grid()\n",
    "data_to_plot = [new_games.loc[new_games['platform'] == \"PS4\", 'total_sales'], new_games.loc[new_games['platform'] == \"XOne\", \n",
    "        'total_sales'], new_games.loc[new_games['platform'] == \"3DS\", 'total_sales'],\n",
    "        new_games.loc[new_games['platform'] == \"WiiU\", 'total_sales'],\n",
    "        new_games.loc[new_games['platform'] == \"PC\", 'total_sales'], \n",
    "        new_games.loc[new_games['platform'] == \"PSV\", 'total_sales']]\n",
    "plt.ylim(0, 2)\n",
    "ax.set_xticklabels(['PS4', 'XOne', '3DS', 'WiiU', \"PC\", 'PSV'])\n",
    "plt.xlabel('Платформы')\n",
    "plt.ylabel('Распределение продаж, млн $')\n",
    "plt.title('Распределение продаж игр для популярных платформ')\n",
    "bp = ax.boxplot(data_to_plot)"
   ]
  },
  {
   "cell_type": "markdown",
   "metadata": {},
   "source": [
    "Вывод: платформы PS4, XOne и WiiU имеют самые высокие медианные показатели, при этом у первых двух самые высокие уровни третьего квартиля. Теперь сравним наши показатели со средними продажами."
   ]
  },
  {
   "cell_type": "code",
   "execution_count": 14,
   "metadata": {},
   "outputs": [
    {
     "data": {
      "text/html": [
       "<div>\n",
       "<style scoped>\n",
       "    .dataframe tbody tr th:only-of-type {\n",
       "        vertical-align: middle;\n",
       "    }\n",
       "\n",
       "    .dataframe tbody tr th {\n",
       "        vertical-align: top;\n",
       "    }\n",
       "\n",
       "    .dataframe thead th {\n",
       "        text-align: right;\n",
       "    }\n",
       "</style>\n",
       "<table border=\"1\" class=\"dataframe\">\n",
       "  <thead>\n",
       "    <tr style=\"text-align: right;\">\n",
       "      <th></th>\n",
       "      <th>total_sales</th>\n",
       "    </tr>\n",
       "    <tr>\n",
       "      <th>platform</th>\n",
       "      <th></th>\n",
       "    </tr>\n",
       "  </thead>\n",
       "  <tbody>\n",
       "    <tr>\n",
       "      <td>X360</td>\n",
       "      <td>0.810068</td>\n",
       "    </tr>\n",
       "    <tr>\n",
       "      <td>PS4</td>\n",
       "      <td>0.801378</td>\n",
       "    </tr>\n",
       "    <tr>\n",
       "      <td>Wii</td>\n",
       "      <td>0.655000</td>\n",
       "    </tr>\n",
       "    <tr>\n",
       "      <td>XOne</td>\n",
       "      <td>0.645020</td>\n",
       "    </tr>\n",
       "    <tr>\n",
       "      <td>PS3</td>\n",
       "      <td>0.585781</td>\n",
       "    </tr>\n",
       "    <tr>\n",
       "      <td>WiiU</td>\n",
       "      <td>0.559116</td>\n",
       "    </tr>\n",
       "    <tr>\n",
       "      <td>3DS</td>\n",
       "      <td>0.491439</td>\n",
       "    </tr>\n",
       "    <tr>\n",
       "      <td>DS</td>\n",
       "      <td>0.404839</td>\n",
       "    </tr>\n",
       "    <tr>\n",
       "      <td>PC</td>\n",
       "      <td>0.250600</td>\n",
       "    </tr>\n",
       "    <tr>\n",
       "      <td>PSV</td>\n",
       "      <td>0.119659</td>\n",
       "    </tr>\n",
       "    <tr>\n",
       "      <td>PSP</td>\n",
       "      <td>0.064682</td>\n",
       "    </tr>\n",
       "  </tbody>\n",
       "</table>\n",
       "</div>"
      ],
      "text/plain": [
       "          total_sales\n",
       "platform             \n",
       "X360         0.810068\n",
       "PS4          0.801378\n",
       "Wii          0.655000\n",
       "XOne         0.645020\n",
       "PS3          0.585781\n",
       "WiiU         0.559116\n",
       "3DS          0.491439\n",
       "DS           0.404839\n",
       "PC           0.250600\n",
       "PSV          0.119659\n",
       "PSP          0.064682"
      ]
     },
     "execution_count": 14,
     "metadata": {},
     "output_type": "execute_result"
    }
   ],
   "source": [
    "new_games_grouped = new_games.pivot_table(index='platform', values='total_sales', aggfunc='mean')\n",
    "new_games_grouped.sort_values(by='total_sales', ascending=False)"
   ]
  },
  {
   "cell_type": "markdown",
   "metadata": {},
   "source": [
    "Вывод: средние продажи игр на PS4 заметно превышают аналогичный показатель для XOne. \n",
    "Однако это не должно вводить нас в заблуждение: как видно из графика, это достигается из-за наличия \"тяжёлых\" выбросов, лежащих поверх \"усов\" - игр-суперхитов с большими продажами. Для большей же части игр распределение продаж на PS4 и XOne одинаково."
   ]
  },
  {
   "cell_type": "code",
   "execution_count": 44,
   "metadata": {},
   "outputs": [
    {
     "data": {
      "image/png": "[encoded data removed]",
      "text/plain": [
       "<Figure size 864x360 with 2 Axes>"
      ]
     },
     "metadata": {
      "needs_background": "light"
     },
     "output_type": "display_data"
    }
   ],
   "source": [
    "# выясним корреляцию отзывов критиков и геймеров и продаж игр, сначала для самой популярной платформы, а затем для остальных\n",
    "fig = plt.figure(figsize=(12, 5))\n",
    "area = fig.add_subplot(1, 2, 1)\n",
    "ps4_games = new_games.loc[new_games['platform'] == 'PS4']\n",
    "plt.scatter(ps4_games['critic_score'], ps4_games['total_sales'], alpha=0.8, label='Рейтинг критиков')\n",
    "plt.scatter(ps4_games['user_score'], ps4_games['total_sales'], alpha=0.8, label='Рейтинг пользователей')\n",
    "plt.xlabel('Рейтинги')\n",
    "plt.ylabel('Продажи, млн $')\n",
    "plt.legend(loc='upper left', shadow=True)\n",
    "plt.title('Влияние отзывов на продажи игр на PS4')\n",
    "\n",
    "area = fig.add_subplot(1, 2, 2)\n",
    "non_ps4_games = new_games.loc[new_games['platform'] != 'PS4']\n",
    "plt.scatter(non_ps4_games['critic_score'], non_ps4_games['total_sales'], alpha=0.8, label='Рейтинг критиков')\n",
    "plt.scatter(non_ps4_games['user_score'], non_ps4_games['total_sales'], alpha=0.4, label='Рейтинг пользователей')\n",
    "plt.xlabel('Рейтинги')\n",
    "plt.ylabel('Продажи, млн $')\n",
    "plt.legend(loc='upper left', shadow=True)\n",
    "plt.title('Влияние отзывов на продажи игр на других платформах')\n",
    "plt.show()"
   ]
  },
  {
   "cell_type": "code",
   "execution_count": 16,
   "metadata": {
    "scrolled": true
   },
   "outputs": [
    {
     "name": "stdout",
     "output_type": "stream",
     "text": [
      "Корреляция продаж и рейтинга критиков для PS4 составляет 0.40656790206178095\n",
      "Корреляция продаж и рейтинга пользователей для PS4 составляет -0.031957110204556445\n",
      "\n",
      "Корреляция продаж и рейтинга критиков для других платформ составляет 0.2847728298723546\n",
      "Корреляция продаж и рейтинга пользователей для других платформ составляет 0.009513048660603471\n"
     ]
    }
   ],
   "source": [
    "print('Корреляция продаж и рейтинга критиков для PS4 составляет', ps4_games['critic_score'].corr(ps4_games['total_sales']))\n",
    "print('Корреляция продаж и рейтинга пользователей для PS4 составляет', ps4_games['user_score'].corr(ps4_games['total_sales']))\n",
    "print()\n",
    "print('Корреляция продаж и рейтинга критиков для других платформ составляет', non_ps4_games['critic_score'].corr(non_ps4_games['total_sales']))\n",
    "print('Корреляция продаж и рейтинга пользователей для других платформ составляет', non_ps4_games['user_score'].corr(non_ps4_games['total_sales']))"
   ]
  },
  {
   "cell_type": "markdown",
   "metadata": {},
   "source": [
    "Вывод: рейтинг критиков существенно влияет на продажи игры, в то время как влияние рейтинга пользователей фактически отсутствует. При этом влияние критиков на продажи игр на PS4 больше, чем на других платформах."
   ]
  },
  {
   "cell_type": "code",
   "execution_count": 17,
   "metadata": {},
   "outputs": [
    {
     "data": {
      "text/html": [
       "<div>\n",
       "<style scoped>\n",
       "    .dataframe tbody tr th:only-of-type {\n",
       "        vertical-align: middle;\n",
       "    }\n",
       "\n",
       "    .dataframe tbody tr th {\n",
       "        vertical-align: top;\n",
       "    }\n",
       "\n",
       "    .dataframe thead th {\n",
       "        text-align: right;\n",
       "    }\n",
       "</style>\n",
       "<table border=\"1\" class=\"dataframe\">\n",
       "  <thead>\n",
       "    <tr style=\"text-align: right;\">\n",
       "      <th></th>\n",
       "      <th>name</th>\n",
       "    </tr>\n",
       "    <tr>\n",
       "      <th>genre</th>\n",
       "      <th></th>\n",
       "    </tr>\n",
       "  </thead>\n",
       "  <tbody>\n",
       "    <tr>\n",
       "      <td>Action</td>\n",
       "      <td>1031</td>\n",
       "    </tr>\n",
       "    <tr>\n",
       "      <td>Role-Playing</td>\n",
       "      <td>370</td>\n",
       "    </tr>\n",
       "    <tr>\n",
       "      <td>Adventure</td>\n",
       "      <td>302</td>\n",
       "    </tr>\n",
       "    <tr>\n",
       "      <td>Sports</td>\n",
       "      <td>268</td>\n",
       "    </tr>\n",
       "    <tr>\n",
       "      <td>Shooter</td>\n",
       "      <td>235</td>\n",
       "    </tr>\n",
       "  </tbody>\n",
       "</table>\n",
       "</div>"
      ],
      "text/plain": [
       "              name\n",
       "genre             \n",
       "Action        1031\n",
       "Role-Playing   370\n",
       "Adventure      302\n",
       "Sports         268\n",
       "Shooter        235"
      ]
     },
     "execution_count": 17,
     "metadata": {},
     "output_type": "execute_result"
    }
   ],
   "source": [
    "# узнаем общее распределение игр по жанрам\n",
    "new_games_genres = new_games.pivot_table(index='genre', values='name', aggfunc='count')\n",
    "new_games_genres.sort_values(by='name', ascending=False).head()"
   ]
  },
  {
   "cell_type": "markdown",
   "metadata": {},
   "source": [
    "Вывод: в актуальный период больше всего производилось игр в жанрах action, RPG и adventure."
   ]
  },
  {
   "cell_type": "code",
   "execution_count": 18,
   "metadata": {},
   "outputs": [
    {
     "data": {
      "text/html": [
       "<div>\n",
       "<style scoped>\n",
       "    .dataframe tbody tr th:only-of-type {\n",
       "        vertical-align: middle;\n",
       "    }\n",
       "\n",
       "    .dataframe tbody tr th {\n",
       "        vertical-align: top;\n",
       "    }\n",
       "\n",
       "    .dataframe thead th {\n",
       "        text-align: right;\n",
       "    }\n",
       "</style>\n",
       "<table border=\"1\" class=\"dataframe\">\n",
       "  <thead>\n",
       "    <tr style=\"text-align: right;\">\n",
       "      <th></th>\n",
       "      <th>total_sales</th>\n",
       "    </tr>\n",
       "    <tr>\n",
       "      <th>genre</th>\n",
       "      <th></th>\n",
       "    </tr>\n",
       "  </thead>\n",
       "  <tbody>\n",
       "    <tr>\n",
       "      <td>Action</td>\n",
       "      <td>441.12</td>\n",
       "    </tr>\n",
       "    <tr>\n",
       "      <td>Shooter</td>\n",
       "      <td>304.73</td>\n",
       "    </tr>\n",
       "    <tr>\n",
       "      <td>Role-Playing</td>\n",
       "      <td>192.80</td>\n",
       "    </tr>\n",
       "    <tr>\n",
       "      <td>Sports</td>\n",
       "      <td>181.07</td>\n",
       "    </tr>\n",
       "    <tr>\n",
       "      <td>Misc</td>\n",
       "      <td>85.04</td>\n",
       "    </tr>\n",
       "  </tbody>\n",
       "</table>\n",
       "</div>"
      ],
      "text/plain": [
       "              total_sales\n",
       "genre                    \n",
       "Action             441.12\n",
       "Shooter            304.73\n",
       "Role-Playing       192.80\n",
       "Sports             181.07\n",
       "Misc                85.04"
      ]
     },
     "execution_count": 18,
     "metadata": {},
     "output_type": "execute_result"
    }
   ],
   "source": [
    "# узнаем общие продажи по жанрам\n",
    "new_games_genres = new_games.pivot_table(index='genre', values='total_sales', aggfunc='sum')\n",
    "new_games_genres.sort_values(by='total_sales', ascending=False).head(5)"
   ]
  },
  {
   "cell_type": "markdown",
   "metadata": {},
   "source": [
    "Вывод: в актуальный период самыми прибыльными по общей выручке жанрами стали action, shooter и RPG."
   ]
  },
  {
   "cell_type": "code",
   "execution_count": 19,
   "metadata": {},
   "outputs": [
    {
     "data": {
      "text/html": [
       "<div>\n",
       "<style scoped>\n",
       "    .dataframe tbody tr th:only-of-type {\n",
       "        vertical-align: middle;\n",
       "    }\n",
       "\n",
       "    .dataframe tbody tr th {\n",
       "        vertical-align: top;\n",
       "    }\n",
       "\n",
       "    .dataframe thead th {\n",
       "        text-align: right;\n",
       "    }\n",
       "</style>\n",
       "<table border=\"1\" class=\"dataframe\">\n",
       "  <thead>\n",
       "    <tr style=\"text-align: right;\">\n",
       "      <th></th>\n",
       "      <th>total_sales</th>\n",
       "    </tr>\n",
       "    <tr>\n",
       "      <th>genre</th>\n",
       "      <th></th>\n",
       "    </tr>\n",
       "  </thead>\n",
       "  <tbody>\n",
       "    <tr>\n",
       "      <td>Shooter</td>\n",
       "      <td>1.296723</td>\n",
       "    </tr>\n",
       "    <tr>\n",
       "      <td>Platform</td>\n",
       "      <td>0.717647</td>\n",
       "    </tr>\n",
       "    <tr>\n",
       "      <td>Sports</td>\n",
       "      <td>0.675634</td>\n",
       "    </tr>\n",
       "    <tr>\n",
       "      <td>Role-Playing</td>\n",
       "      <td>0.521081</td>\n",
       "    </tr>\n",
       "    <tr>\n",
       "      <td>Racing</td>\n",
       "      <td>0.465217</td>\n",
       "    </tr>\n",
       "    <tr>\n",
       "      <td>Misc</td>\n",
       "      <td>0.442917</td>\n",
       "    </tr>\n",
       "    <tr>\n",
       "      <td>Simulation</td>\n",
       "      <td>0.439000</td>\n",
       "    </tr>\n",
       "    <tr>\n",
       "      <td>Action</td>\n",
       "      <td>0.427856</td>\n",
       "    </tr>\n",
       "    <tr>\n",
       "      <td>Fighting</td>\n",
       "      <td>0.408165</td>\n",
       "    </tr>\n",
       "    <tr>\n",
       "      <td>Strategy</td>\n",
       "      <td>0.187887</td>\n",
       "    </tr>\n",
       "    <tr>\n",
       "      <td>Puzzle</td>\n",
       "      <td>0.174643</td>\n",
       "    </tr>\n",
       "    <tr>\n",
       "      <td>Adventure</td>\n",
       "      <td>0.097450</td>\n",
       "    </tr>\n",
       "  </tbody>\n",
       "</table>\n",
       "</div>"
      ],
      "text/plain": [
       "              total_sales\n",
       "genre                    \n",
       "Shooter          1.296723\n",
       "Platform         0.717647\n",
       "Sports           0.675634\n",
       "Role-Playing     0.521081\n",
       "Racing           0.465217\n",
       "Misc             0.442917\n",
       "Simulation       0.439000\n",
       "Action           0.427856\n",
       "Fighting         0.408165\n",
       "Strategy         0.187887\n",
       "Puzzle           0.174643\n",
       "Adventure        0.097450"
      ]
     },
     "execution_count": 19,
     "metadata": {},
     "output_type": "execute_result"
    }
   ],
   "source": [
    "new_games_genres = new_games.pivot_table(index='genre', values='total_sales', aggfunc='mean')\n",
    "new_games_genres.sort_values(by='total_sales', ascending=False)"
   ]
  },
  {
   "cell_type": "markdown",
   "metadata": {},
   "source": [
    "Вывод: при этом на единицу игры больше всего денег принесли шутеры, платформеры и спортивные игры. Наименее прибыльными играми стали стратегии, головоломки и adventure."
   ]
  },
  {
   "cell_type": "markdown",
   "metadata": {},
   "source": [
    "#### Вывод по шагу 3.\n",
    "\n",
    "Мы выяснили, что:\n",
    "- срок популярности платформ в среднем составляет около 5-6 лет, после чего выходит новое поколение консолей, а продажи на старом стремительно падают\n",
    "- на 2016 год самыми популярными платформами являются PS4, Xbox One и Nintendo 3DS, однако продажи игр на всех платформах падают\n",
    "- из актуальных платформ лучшие медианные показатели продаж - у PS4, Xbox One и WiiU\n",
    "- продажи игр в большой степени зависят от отзывов критиков и почти не зависят от отзывов пользователей"
   ]
  },
  {
   "cell_type": "markdown",
   "metadata": {},
   "source": [
    "### Шаг 4. Составьте портрет пользователя каждого региона"
   ]
  },
  {
   "cell_type": "code",
   "execution_count": 20,
   "metadata": {},
   "outputs": [],
   "source": [
    "# подсчитаем суммарные продажи игр по каждому региону\n",
    "na_total_sales = new_games['na_sales'].sum()\n",
    "eu_total_sales = new_games['eu_sales'].sum()\n",
    "jp_total_sales = new_games['jp_sales'].sum()\n",
    "other_total_sales = new_games['other_sales'].sum()\n",
    "world_total_sales = new_games['total_sales'].sum()"
   ]
  },
  {
   "cell_type": "code",
   "execution_count": 21,
   "metadata": {},
   "outputs": [],
   "source": [
    "# выясним среднюю долю каждого региона в мировых продажах\n",
    "na_avg_share = na_total_sales / world_total_sales\n",
    "eu_avg_share = eu_total_sales / world_total_sales\n",
    "jp_avg_share = jp_total_sales / world_total_sales\n",
    "other_avg_share = other_total_sales / world_total_sales"
   ]
  },
  {
   "cell_type": "code",
   "execution_count": 22,
   "metadata": {},
   "outputs": [
    {
     "name": "stderr",
     "output_type": "stream",
     "text": [
      "/opt/conda/lib/python3.7/site-packages/pandas/core/indexing.py:376: SettingWithCopyWarning: \n",
      "A value is trying to be set on a copy of a slice from a DataFrame.\n",
      "Try using .loc[row_indexer,col_indexer] = value instead\n",
      "\n",
      "See the caveats in the documentation: http://pandas.pydata.org/pandas-docs/stable/user_guide/indexing.html#returning-a-view-versus-a-copy\n",
      "  self.obj[key] = _infer_fill_value(value)\n",
      "/opt/conda/lib/python3.7/site-packages/pandas/core/indexing.py:494: SettingWithCopyWarning: \n",
      "A value is trying to be set on a copy of a slice from a DataFrame.\n",
      "Try using .loc[row_indexer,col_indexer] = value instead\n",
      "\n",
      "See the caveats in the documentation: http://pandas.pydata.org/pandas-docs/stable/user_guide/indexing.html#returning-a-view-versus-a-copy\n",
      "  self.obj[item] = s\n"
     ]
    }
   ],
   "source": [
    "# выясним, насколько продажи конкретной игры в каждом регионе отличаются от средних для данного региона\n",
    "\n",
    "new_games.loc[:,'na_dif'] = new_games.loc[:,'na_sales'] / new_games.loc[:,'total_sales'] - na_avg_share\n",
    "new_games.loc[:,'eu_dif'] = new_games.loc[:,'eu_sales'] / new_games.loc[:,'total_sales'] - eu_avg_share\n",
    "new_games.loc[:,'jp_dif'] = new_games.loc[:,'jp_sales'] / new_games.loc[:,'total_sales'] - jp_avg_share\n",
    "new_games.loc[:,'other_dif'] = new_games.loc[:,'other_sales'] / new_games.loc[:,'total_sales'] - other_avg_share"
   ]
  },
  {
   "cell_type": "code",
   "execution_count": 23,
   "metadata": {},
   "outputs": [],
   "source": [
    "# выясним, в каком регионе фактическая доля продаж сильнее всего превысила среднюю. \n",
    "# опираясь на этот показатель, присвоим каждой игре приоритетный для нее регион \n",
    "def what_region(row): \n",
    "    max_dif = max(row['na_dif'], row['eu_dif'], row['jp_dif'], row['other_dif'])\n",
    "    if max_dif == row['na_dif']:\n",
    "        return 'NA'\n",
    "    if max_dif == row['eu_dif']:\n",
    "        return 'EU'\n",
    "    if max_dif == row['jp_dif']:\n",
    "        return 'JP'\n",
    "    if max_dif == row['other_dif']:\n",
    "        return 'other'\n",
    "new_games.loc[:, 'region'] = new_games.apply(what_region, axis=1)"
   ]
  },
  {
   "cell_type": "code",
   "execution_count": 24,
   "metadata": {},
   "outputs": [
    {
     "name": "stdout",
     "output_type": "stream",
     "text": [
      "                 total_sales\n",
      "region platform             \n",
      "EU     PS4            221.10\n",
      "       PS3            138.86\n",
      "       PC              57.08\n",
      "       X360            39.44\n",
      "       XOne            24.90\n",
      "                 total_sales\n",
      "region platform             \n",
      "JP     3DS            164.44\n",
      "       PS3             48.79\n",
      "       WiiU            30.16\n",
      "       PSV             27.99\n",
      "       PS4             13.19\n",
      "                 total_sales\n",
      "region platform             \n",
      "NA     X360           196.77\n",
      "       XOne           134.41\n",
      "       PS3             55.31\n",
      "       WiiU            42.88\n",
      "       PS4             35.93\n"
     ]
    }
   ],
   "source": [
    "# определим самые популярные платформы для каждого региона\n",
    "for i in ['EU', 'JP', \"NA\"]:\n",
    "    i_new_games = new_games.loc[new_games['region'] == i]\n",
    "    i_new_games_by_region = i_new_games.pivot_table(index=('region', 'platform'), values='total_sales', aggfunc='sum')\n",
    "    print(i_new_games_by_region.sort_values(by='total_sales', ascending=False).head(5))"
   ]
  },
  {
   "cell_type": "code",
   "execution_count": 25,
   "metadata": {},
   "outputs": [
    {
     "name": "stdout",
     "output_type": "stream",
     "text": [
      "                     total_sales\n",
      "region genre                    \n",
      "EU     Action             178.61\n",
      "       Shooter            114.95\n",
      "       Sports              82.11\n",
      "       Racing              40.79\n",
      "       Role-Playing        36.12\n",
      "                     total_sales\n",
      "region genre                    \n",
      "JP     Role-Playing       123.24\n",
      "       Action              61.66\n",
      "       Platform            26.25\n",
      "       Misc                20.97\n",
      "       Simulation          20.47\n",
      "                     total_sales\n",
      "region genre                    \n",
      "NA     Action             165.87\n",
      "       Shooter            138.81\n",
      "       Sports              85.47\n",
      "       Misc                46.82\n",
      "       Role-Playing        25.82\n"
     ]
    }
   ],
   "source": [
    "# определим самые популярные жанры для каждого региона\n",
    "for i in ['EU', 'JP', \"NA\"]:\n",
    "    i_new_games = new_games.loc[new_games['region'] == i]\n",
    "    i_new_games_by_region = i_new_games.pivot_table(index=('region', 'genre'), values='total_sales', aggfunc='sum')\n",
    "    print(i_new_games_by_region.sort_values(by='total_sales', ascending=False).head(5))"
   ]
  },
  {
   "cell_type": "code",
   "execution_count": 26,
   "metadata": {},
   "outputs": [],
   "source": [
    "# переведем буквенные показатели рейтинга ESRB в численные показатели, увеличивая индекс по мере возрастания строгости рейтинга\n",
    "new_games.loc[:, 'rating'] = new_games.loc[:,'rating'].replace({'E': 0, 'E10+': 1, 'T': 2, 'M': 3})"
   ]
  },
  {
   "cell_type": "code",
   "execution_count": 27,
   "metadata": {},
   "outputs": [
    {
     "name": "stdout",
     "output_type": "stream",
     "text": [
      "В регионе EU корреляция рейтинга ESRB и продаж составляет 0.13511216255450062\n",
      "В регионе JP корреляция рейтинга ESRB и продаж составляет -0.34531458317003\n",
      "В регионе NA корреляция рейтинга ESRB и продаж составляет 0.10086072888675086\n"
     ]
    }
   ],
   "source": [
    "# подсчитаем корреляцию рейтинга ESRB и объема продаж для каждого региона\n",
    "for i in ['EU', 'JP', \"NA\"]:\n",
    "    i_new_games = new_games.loc[new_games['region'] == i]\n",
    "    print('В регионе', i, 'корреляция рейтинга ESRB и продаж составляет', i_new_games['rating'].corr(i_new_games['total_sales']))"
   ]
  },
  {
   "cell_type": "markdown",
   "metadata": {},
   "source": [
    "#### Вывод по шагу 4:\n",
    "- предпочтения платформ сильно зависят от региона: в Северной Америке с отрывом лидируют платформы семейства Xbox, в Европе - семейства Sony Playstation, а в Японии безусловный лидер - Nintendo 3DS.\n",
    "- жанровые предпочтения в Европе и Северной Америке примерно одинаковые (экшены, шутеры, спортивные игры), в то время как в Японии популярность жанров смещена в сторону RPG, а также малопопулярых в Европе и Америке жанров - платформеров и симуляторов.\n",
    "- в Европе и Северной Америке рейтинг ESRB мало влияет на продажи игр, в то время как в Японии ужесточение рейтинга резко снижает продажи игры."
   ]
  },
  {
   "cell_type": "markdown",
   "metadata": {},
   "source": [
    "### Шаг 5. Проверьте гипотезы"
   ]
  },
  {
   "cell_type": "markdown",
   "metadata": {},
   "source": [
    "Проверим нулевую гипотезу о равенстве среднего двух генеральных совокупностей по взятым из них выборкам: средние пользовательские рейтинги платформы XOne равны средним пользовательским рейтингам платформы PC. Альтернативная гипотеза: эти показатели неравны."
   ]
  },
  {
   "cell_type": "code",
   "execution_count": 28,
   "metadata": {},
   "outputs": [],
   "source": [
    "# оставим только игры с указанным пользовательским рейтингом\n",
    "rated_new_games = new_games.copy()\n",
    "rated_new_games.dropna(subset = ['user_score'], inplace=True)"
   ]
  },
  {
   "cell_type": "code",
   "execution_count": 29,
   "metadata": {},
   "outputs": [
    {
     "name": "stdout",
     "output_type": "stream",
     "text": [
      "p-значение: 0.5535080500643805\n",
      "Не получилось отвергнуть нулевую гипотезу\n"
     ]
    }
   ],
   "source": [
    "pc_user_score = rated_new_games.loc[new_games['platform']=='PC', 'user_score']\n",
    "xone_user_score = rated_new_games.loc[new_games['platform']=='XOne', 'user_score']\n",
    "\n",
    "alpha = 0.05 # задаём стандартный критический уровень статистической значимости\n",
    "\n",
    "results = st.ttest_ind(pc_user_score, xone_user_score) # проверяем гипотезу о равенстве средних двух независимых совокупностей\n",
    "\n",
    "print('p-значение:', results.pvalue) # выводим на экран получившееся p-значение\n",
    "\n",
    "if (results.pvalue < alpha): # сравниваем получившееся p-значение с заданным уровнем статистической значимости):\n",
    "    print(\"Отвергаем нулевую гипотезу\")\n",
    "else:\n",
    "    print(\"Не получилось отвергнуть нулевую гипотезу\")"
   ]
  },
  {
   "cell_type": "code",
   "execution_count": 30,
   "metadata": {},
   "outputs": [
    {
     "name": "stdout",
     "output_type": "stream",
     "text": [
      "Средний пользовательский рейтинг для платформы PC равен 64.2864077669903\n",
      "Средний пользовательский рейтинг для платформы Xone равен 65.21428571428571\n"
     ]
    }
   ],
   "source": [
    "print('Средний пользовательский рейтинг для платформы PC равен', pc_user_score.mean())\n",
    "print('Средний пользовательский рейтинг для платформы Xone равен', xone_user_score.mean())"
   ]
  },
  {
   "cell_type": "markdown",
   "metadata": {},
   "source": [
    "И действительно, разница между рейтингами мала и с вероятность 55% может быть случайной."
   ]
  },
  {
   "cell_type": "markdown",
   "metadata": {},
   "source": [
    "Теперь проверим нулевую гипотезу о равенстве среднего двух генеральных совокупностей по взятым из них выборкам: средние пользовательские рейтинги жанра Action равны средним пользовательским рейтингам жанра Sports. Альтернативная гипотеза: эти показатели неравны."
   ]
  },
  {
   "cell_type": "code",
   "execution_count": 31,
   "metadata": {},
   "outputs": [
    {
     "name": "stdout",
     "output_type": "stream",
     "text": [
      "p-значение: 3.7163089460930885e-26\n",
      "Отвергаем нулевую гипотезу\n"
     ]
    }
   ],
   "source": [
    "action_user_score = rated_new_games.loc[new_games['genre']=='Action', 'user_score']\n",
    "sports_user_score = rated_new_games.loc[new_games['genre']=='Sports', 'user_score']\n",
    "\n",
    "alpha = 0.05 # задаём стандартный критический уровень статистической значимости\n",
    "\n",
    "results = st.ttest_ind(action_user_score, sports_user_score) # проверяем гипотезу о равенстве средних двух независимых совокупностей\n",
    "\n",
    "print('p-значение:', results.pvalue) # выводим на экран получившееся p-значение\n",
    "\n",
    "if (results.pvalue < alpha): # сравниваем получившееся p-значение с заданным уровнем статистической значимости):\n",
    "    print(\"Отвергаем нулевую гипотезу\")\n",
    "else:\n",
    "    print(\"Не получилось отвергнуть нулевую гипотезу\")"
   ]
  },
  {
   "cell_type": "code",
   "execution_count": 32,
   "metadata": {},
   "outputs": [
    {
     "name": "stdout",
     "output_type": "stream",
     "text": [
      "Средний пользовательский рейтинг для жанра Action равен 68.25047801147228\n",
      "Средний пользовательский рейтинг для жанра Sports равен 54.55897435897436\n"
     ]
    }
   ],
   "source": [
    "print('Средний пользовательский рейтинг для жанра Action равен', action_user_score.mean())\n",
    "print('Средний пользовательский рейтинг для жанра Sports равен', sports_user_score.mean())"
   ]
  },
  {
   "cell_type": "markdown",
   "metadata": {},
   "source": [
    "И действительно, разница между средними рейтингами этих жанров слишком велика, чтобы быть случайной."
   ]
  },
  {
   "cell_type": "markdown",
   "metadata": {},
   "source": [
    "#### Вывод по шагу 5.\n",
    "\n",
    "Мы доказали, что пользовательские рейтинги платформ PC и XOne примерно одинаковы, а рейтинги игр в жанре экшен на статистически достоверном уровне отличаются от рейтинга спортивных игр."
   ]
  },
  {
   "cell_type": "markdown",
   "metadata": {},
   "source": [
    "### Общий вывод"
   ]
  },
  {
   "cell_type": "markdown",
   "metadata": {},
   "source": [
    "В ходе исследования мы выяснили, что на объем продаж игры влияют следующие факторы:\n",
    "\n",
    "- конъюнктура рынка (в настоящий момент продажи игр на всех платформах падают)\n",
    "- платформа игры (актуальными платформами на настоящий момент являются PS4, Xbox One, WiiU и 3DS)\n",
    "- рейтинг критиков (а вот отзывы пользователей почти не влияют)\n",
    "- жанр игры (самыми прибыльными являются шутеры, спортивные игры и платформеры)\n",
    "- регион продвижения игры:\n",
    "    - в Северной Америке играют на Xbox, Европе - на Sony Playstation, Японии - на Nintendo 3DS (при этом традиционные для российских геймеров PC на заметном уровне присутствуют лишь в Европе)\n",
    "    - в Европе и Америке любят экшены, шутеры и спортивные игры, а в Японии - RPG (включая, очевидно, jRPG), экшены и платформеры\n",
    "- в некоторых регионах (Япония) жёсткий возрастнйо рейтинг заметно снижает продажи игр\n",
    "\n",
    "При этом мы также доказали, что для пары PC-Xbox One средний рейтинг игры не зависит от платформы, а отдельные жанры имеют рейтинг, статистически значимо более высокий, чем другие (например, экшены получают более высокую оценку, чем спортивные игры)."
   ]
  },
  {
   "cell_type": "code",
   "execution_count": null,
   "metadata": {},
   "outputs": [],
   "source": []
  }
 ],
 "metadata": {
  "kernelspec": {
   "display_name": "Python 3",
   "language": "python",
   "name": "python3"
  },
  "language_info": {
   "codemirror_mode": {
    "name": "ipython",
    "version": 3
   },
   "file_extension": ".py",
   "mimetype": "text/x-python",
   "name": "python",
   "nbconvert_exporter": "python",
   "pygments_lexer": "ipython3",
   "version": "3.7.4"
  }
 },
 "nbformat": 4,
 "nbformat_minor": 2
}
